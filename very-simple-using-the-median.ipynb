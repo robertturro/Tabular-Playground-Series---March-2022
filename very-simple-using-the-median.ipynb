{
 "cells": [
  {
   "cell_type": "code",
   "execution_count": 1,
   "id": "9e84747f",
   "metadata": {
    "_cell_guid": "b1076dfc-b9ad-4769-8c92-a6c4dae69d19",
    "_uuid": "8f2839f25d086af736a60e9eeb907d3b93b6e0e5",
    "execution": {
     "iopub.execute_input": "2022-03-23T14:40:22.343810Z",
     "iopub.status.busy": "2022-03-23T14:40:22.343176Z",
     "iopub.status.idle": "2022-03-23T14:40:23.992298Z",
     "shell.execute_reply": "2022-03-23T14:40:23.991087Z",
     "shell.execute_reply.started": "2022-03-23T14:21:55.598505Z"
    },
    "papermill": {
     "duration": 1.683444,
     "end_time": "2022-03-23T14:40:23.992632",
     "exception": false,
     "start_time": "2022-03-23T14:40:22.309188",
     "status": "completed"
    },
    "tags": []
   },
   "outputs": [],
   "source": [
    "import numpy as np \n",
    "import pandas as pd \n",
    "import math\n",
    "import datetime\n",
    "\n",
    "from sklearn.metrics import mean_absolute_error\n",
    "from sklearn.linear_model import LinearRegression\n",
    "from sklearn.linear_model import Ridge\n",
    "from sklearn.linear_model import Lasso\n",
    "\n",
    "from sklearn.ensemble import GradientBoostingRegressor\n",
    "\n",
    "\n",
    "from catboost import CatBoostRegressor, Pool\n",
    "from sklearn.preprocessing import LabelEncoder\n",
    "\n",
    "from numpy import mean, median\n",
    "\n",
    "from warnings import simplefilter\n",
    "simplefilter(\"ignore\")"
   ]
  },
  {
   "cell_type": "code",
   "execution_count": 2,
   "id": "925d99b9",
   "metadata": {
    "execution": {
     "iopub.execute_input": "2022-03-23T14:40:24.048875Z",
     "iopub.status.busy": "2022-03-23T14:40:24.048237Z",
     "iopub.status.idle": "2022-03-23T14:40:25.057439Z",
     "shell.execute_reply": "2022-03-23T14:40:25.056866Z",
     "shell.execute_reply.started": "2022-03-23T14:21:57.216356Z"
    },
    "papermill": {
     "duration": 1.03953,
     "end_time": "2022-03-23T14:40:25.057591",
     "exception": false,
     "start_time": "2022-03-23T14:40:24.018061",
     "status": "completed"
    },
    "tags": []
   },
   "outputs": [
    {
     "data": {
      "text/html": [
       "<style type='text/css'>\n",
       ".datatable table.frame { margin-bottom: 0; }\n",
       ".datatable table.frame thead { border-bottom: none; }\n",
       ".datatable table.frame tr.coltypes td {  color: #FFFFFF;  line-height: 6px;  padding: 0 0.5em;}\n",
       ".datatable .bool    { background: #DDDD99; }\n",
       ".datatable .object  { background: #565656; }\n",
       ".datatable .int     { background: #5D9E5D; }\n",
       ".datatable .float   { background: #4040CC; }\n",
       ".datatable .str     { background: #CC4040; }\n",
       ".datatable .time    { background: #40CC40; }\n",
       ".datatable .row_index {  background: var(--jp-border-color3);  border-right: 1px solid var(--jp-border-color0);  color: var(--jp-ui-font-color3);  font-size: 9px;}\n",
       ".datatable .frame tbody td { text-align: left; }\n",
       ".datatable .frame tr.coltypes .row_index {  background: var(--jp-border-color0);}\n",
       ".datatable th:nth-child(2) { padding-left: 12px; }\n",
       ".datatable .hellipsis {  color: var(--jp-cell-editor-border-color);}\n",
       ".datatable .vellipsis {  background: var(--jp-layout-color0);  color: var(--jp-cell-editor-border-color);}\n",
       ".datatable .na {  color: var(--jp-cell-editor-border-color);  font-size: 80%;}\n",
       ".datatable .sp {  opacity: 0.25;}\n",
       ".datatable .footer { font-size: 9px; }\n",
       ".datatable .frame_dimensions {  background: var(--jp-border-color3);  border-top: 1px solid var(--jp-border-color0);  color: var(--jp-ui-font-color3);  display: inline-block;  opacity: 0.6;  padding: 1px 10px 1px 5px;}\n",
       "</style>\n"
      ],
      "text/plain": [
       "<IPython.core.display.HTML object>"
      ]
     },
     "metadata": {},
     "output_type": "display_data"
    }
   ],
   "source": [
    "from sklearn.ensemble import AdaBoostRegressor\n",
    "from sklearn.ensemble import BaggingRegressor\n",
    "from sklearn.ensemble import ExtraTreesRegressor\n",
    "from sklearn.ensemble import GradientBoostingRegressor\n",
    "from sklearn.ensemble import HistGradientBoostingRegressor\n",
    "from xgboost import XGBRegressor\n",
    "from catboost import CatBoostRegressor, Pool\n",
    "from lightgbm import LGBMRegressor"
   ]
  },
  {
   "cell_type": "code",
   "execution_count": 3,
   "id": "0ce51030",
   "metadata": {
    "execution": {
     "iopub.execute_input": "2022-03-23T14:40:25.117003Z",
     "iopub.status.busy": "2022-03-23T14:40:25.116223Z",
     "iopub.status.idle": "2022-03-23T14:40:26.051011Z",
     "shell.execute_reply": "2022-03-23T14:40:26.050039Z",
     "shell.execute_reply.started": "2022-03-23T14:21:58.296944Z"
    },
    "papermill": {
     "duration": 0.964474,
     "end_time": "2022-03-23T14:40:26.051160",
     "exception": false,
     "start_time": "2022-03-23T14:40:25.086686",
     "status": "completed"
    },
    "tags": []
   },
   "outputs": [],
   "source": [
    "df_train = pd.read_csv('../input/tabular-playground-series-mar-2022/train.csv', index_col=\"row_id\", parse_dates=['time'])\n",
    "df_test = pd.read_csv('../input/tabular-playground-series-mar-2022/test.csv', index_col=\"row_id\", parse_dates=['time'])\n",
    "df_train_idx = df_train.index\n",
    "df_test_idx = df_test.index"
   ]
  },
  {
   "cell_type": "code",
   "execution_count": 4,
   "id": "5b3bea32",
   "metadata": {
    "execution": {
     "iopub.execute_input": "2022-03-23T14:40:26.110194Z",
     "iopub.status.busy": "2022-03-23T14:40:26.109152Z",
     "iopub.status.idle": "2022-03-23T14:40:27.610207Z",
     "shell.execute_reply": "2022-03-23T14:40:27.609664Z",
     "shell.execute_reply.started": "2022-03-23T14:21:59.502466Z"
    },
    "papermill": {
     "duration": 1.533779,
     "end_time": "2022-03-23T14:40:27.610366",
     "exception": false,
     "start_time": "2022-03-23T14:40:26.076587",
     "status": "completed"
    },
    "tags": []
   },
   "outputs": [],
   "source": [
    "df_train['road'] = df_train['x'].astype(str) + df_train['y'].astype(str) + df_train['direction']\n",
    "df_test['road']  = df_test['x'].astype(str) + df_test['y'].astype(str) + df_test['direction']\n",
    "\n",
    "le = LabelEncoder()\n",
    "df_train['road'] = le.fit_transform(df_train['road'])\n",
    "df_test['road']  = le.transform(df_test['road'])"
   ]
  },
  {
   "cell_type": "code",
   "execution_count": 5,
   "id": "b2ae142b",
   "metadata": {
    "execution": {
     "iopub.execute_input": "2022-03-23T14:40:27.672092Z",
     "iopub.status.busy": "2022-03-23T14:40:27.670561Z",
     "iopub.status.idle": "2022-03-23T14:40:28.372456Z",
     "shell.execute_reply": "2022-03-23T14:40:28.372900Z",
     "shell.execute_reply.started": "2022-03-23T14:22:01.964611Z"
    },
    "papermill": {
     "duration": 0.737411,
     "end_time": "2022-03-23T14:40:28.373117",
     "exception": false,
     "start_time": "2022-03-23T14:40:27.635706",
     "status": "completed"
    },
    "tags": []
   },
   "outputs": [],
   "source": [
    "minute = df_train.copy()\n",
    "minute['time'] = minute['time'] + pd.Timedelta(20, unit=\"m\")\n",
    "minute = minute.rename(columns={'congestion':'lag'})[['time','direction','road', 'lag']]\n",
    "df_train = df_train.merge(minute, on=['time','direction','road'], how='left')\n",
    "df_test = df_test.merge(minute, on=['time','direction','road'], how='left')"
   ]
  },
  {
   "cell_type": "code",
   "execution_count": 6,
   "id": "99e57cf5",
   "metadata": {
    "execution": {
     "iopub.execute_input": "2022-03-23T14:40:28.427902Z",
     "iopub.status.busy": "2022-03-23T14:40:28.427256Z",
     "iopub.status.idle": "2022-03-23T14:40:28.446339Z",
     "shell.execute_reply": "2022-03-23T14:40:28.446817Z",
     "shell.execute_reply.started": "2022-03-23T14:22:02.811388Z"
    },
    "papermill": {
     "duration": 0.04816,
     "end_time": "2022-03-23T14:40:28.447008",
     "exception": false,
     "start_time": "2022-03-23T14:40:28.398848",
     "status": "completed"
    },
    "tags": []
   },
   "outputs": [
    {
     "data": {
      "text/html": [
       "<div>\n",
       "<style scoped>\n",
       "    .dataframe tbody tr th:only-of-type {\n",
       "        vertical-align: middle;\n",
       "    }\n",
       "\n",
       "    .dataframe tbody tr th {\n",
       "        vertical-align: top;\n",
       "    }\n",
       "\n",
       "    .dataframe thead th {\n",
       "        text-align: right;\n",
       "    }\n",
       "</style>\n",
       "<table border=\"1\" class=\"dataframe\">\n",
       "  <thead>\n",
       "    <tr style=\"text-align: right;\">\n",
       "      <th></th>\n",
       "      <th>time</th>\n",
       "      <th>x</th>\n",
       "      <th>y</th>\n",
       "      <th>direction</th>\n",
       "      <th>congestion</th>\n",
       "      <th>road</th>\n",
       "      <th>lag</th>\n",
       "    </tr>\n",
       "  </thead>\n",
       "  <tbody>\n",
       "    <tr>\n",
       "      <th>0</th>\n",
       "      <td>1991-04-01 00:00:00</td>\n",
       "      <td>0</td>\n",
       "      <td>0</td>\n",
       "      <td>EB</td>\n",
       "      <td>70</td>\n",
       "      <td>0</td>\n",
       "      <td>NaN</td>\n",
       "    </tr>\n",
       "    <tr>\n",
       "      <th>1</th>\n",
       "      <td>1991-04-01 00:00:00</td>\n",
       "      <td>0</td>\n",
       "      <td>0</td>\n",
       "      <td>NB</td>\n",
       "      <td>49</td>\n",
       "      <td>1</td>\n",
       "      <td>NaN</td>\n",
       "    </tr>\n",
       "    <tr>\n",
       "      <th>2</th>\n",
       "      <td>1991-04-01 00:00:00</td>\n",
       "      <td>0</td>\n",
       "      <td>0</td>\n",
       "      <td>SB</td>\n",
       "      <td>24</td>\n",
       "      <td>2</td>\n",
       "      <td>NaN</td>\n",
       "    </tr>\n",
       "    <tr>\n",
       "      <th>3</th>\n",
       "      <td>1991-04-01 00:00:00</td>\n",
       "      <td>0</td>\n",
       "      <td>1</td>\n",
       "      <td>EB</td>\n",
       "      <td>18</td>\n",
       "      <td>3</td>\n",
       "      <td>NaN</td>\n",
       "    </tr>\n",
       "    <tr>\n",
       "      <th>4</th>\n",
       "      <td>1991-04-01 00:00:00</td>\n",
       "      <td>0</td>\n",
       "      <td>1</td>\n",
       "      <td>NB</td>\n",
       "      <td>60</td>\n",
       "      <td>4</td>\n",
       "      <td>NaN</td>\n",
       "    </tr>\n",
       "    <tr>\n",
       "      <th>...</th>\n",
       "      <td>...</td>\n",
       "      <td>...</td>\n",
       "      <td>...</td>\n",
       "      <td>...</td>\n",
       "      <td>...</td>\n",
       "      <td>...</td>\n",
       "      <td>...</td>\n",
       "    </tr>\n",
       "    <tr>\n",
       "      <th>495</th>\n",
       "      <td>1991-04-01 02:20:00</td>\n",
       "      <td>2</td>\n",
       "      <td>0</td>\n",
       "      <td>NB</td>\n",
       "      <td>82</td>\n",
       "      <td>40</td>\n",
       "      <td>47.0</td>\n",
       "    </tr>\n",
       "    <tr>\n",
       "      <th>496</th>\n",
       "      <td>1991-04-01 02:20:00</td>\n",
       "      <td>2</td>\n",
       "      <td>0</td>\n",
       "      <td>SB</td>\n",
       "      <td>63</td>\n",
       "      <td>41</td>\n",
       "      <td>67.0</td>\n",
       "    </tr>\n",
       "    <tr>\n",
       "      <th>497</th>\n",
       "      <td>1991-04-01 02:20:00</td>\n",
       "      <td>2</td>\n",
       "      <td>0</td>\n",
       "      <td>WB</td>\n",
       "      <td>67</td>\n",
       "      <td>42</td>\n",
       "      <td>57.0</td>\n",
       "    </tr>\n",
       "    <tr>\n",
       "      <th>498</th>\n",
       "      <td>1991-04-01 02:20:00</td>\n",
       "      <td>2</td>\n",
       "      <td>1</td>\n",
       "      <td>EB</td>\n",
       "      <td>57</td>\n",
       "      <td>43</td>\n",
       "      <td>33.0</td>\n",
       "    </tr>\n",
       "    <tr>\n",
       "      <th>499</th>\n",
       "      <td>1991-04-01 02:20:00</td>\n",
       "      <td>2</td>\n",
       "      <td>1</td>\n",
       "      <td>NB</td>\n",
       "      <td>60</td>\n",
       "      <td>44</td>\n",
       "      <td>19.0</td>\n",
       "    </tr>\n",
       "  </tbody>\n",
       "</table>\n",
       "<p>500 rows × 7 columns</p>\n",
       "</div>"
      ],
      "text/plain": [
       "                   time  x  y direction  congestion  road   lag\n",
       "0   1991-04-01 00:00:00  0  0        EB          70     0   NaN\n",
       "1   1991-04-01 00:00:00  0  0        NB          49     1   NaN\n",
       "2   1991-04-01 00:00:00  0  0        SB          24     2   NaN\n",
       "3   1991-04-01 00:00:00  0  1        EB          18     3   NaN\n",
       "4   1991-04-01 00:00:00  0  1        NB          60     4   NaN\n",
       "..                  ... .. ..       ...         ...   ...   ...\n",
       "495 1991-04-01 02:20:00  2  0        NB          82    40  47.0\n",
       "496 1991-04-01 02:20:00  2  0        SB          63    41  67.0\n",
       "497 1991-04-01 02:20:00  2  0        WB          67    42  57.0\n",
       "498 1991-04-01 02:20:00  2  1        EB          57    43  33.0\n",
       "499 1991-04-01 02:20:00  2  1        NB          60    44  19.0\n",
       "\n",
       "[500 rows x 7 columns]"
      ]
     },
     "execution_count": 6,
     "metadata": {},
     "output_type": "execute_result"
    }
   ],
   "source": [
    "df_train.head(500)"
   ]
  },
  {
   "cell_type": "code",
   "execution_count": 7,
   "id": "2f810114",
   "metadata": {
    "execution": {
     "iopub.execute_input": "2022-03-23T14:40:28.501199Z",
     "iopub.status.busy": "2022-03-23T14:40:28.500586Z",
     "iopub.status.idle": "2022-03-23T14:40:28.547916Z",
     "shell.execute_reply": "2022-03-23T14:40:28.547438Z",
     "shell.execute_reply.started": "2022-03-23T14:22:02.836670Z"
    },
    "papermill": {
     "duration": 0.075741,
     "end_time": "2022-03-23T14:40:28.548080",
     "exception": false,
     "start_time": "2022-03-23T14:40:28.472339",
     "status": "completed"
    },
    "tags": []
   },
   "outputs": [
    {
     "data": {
      "text/plain": [
       "Timedelta('182 days 11:40:00')"
      ]
     },
     "execution_count": 7,
     "metadata": {},
     "output_type": "execute_result"
    }
   ],
   "source": [
    "df_train['time'][848834] - df_train['time'][0]"
   ]
  },
  {
   "cell_type": "code",
   "execution_count": 8,
   "id": "2571ba36",
   "metadata": {
    "execution": {
     "iopub.execute_input": "2022-03-23T14:40:28.606368Z",
     "iopub.status.busy": "2022-03-23T14:40:28.605758Z",
     "iopub.status.idle": "2022-03-23T14:40:28.608584Z",
     "shell.execute_reply": "2022-03-23T14:40:28.608114Z",
     "shell.execute_reply.started": "2022-03-23T14:22:02.890401Z"
    },
    "papermill": {
     "duration": 0.034803,
     "end_time": "2022-03-23T14:40:28.608722",
     "exception": false,
     "start_time": "2022-03-23T14:40:28.573919",
     "status": "completed"
    },
    "tags": []
   },
   "outputs": [],
   "source": [
    "def add_datetime_features(df):\n",
    "    df['month']   = df['time'].dt.month\n",
    "    df['day']     = df['time'].dt.day\n",
    "    df['weekday'] = df['time'].dt.weekday\n",
    "    df['weekend'] = (df['time'].dt.weekday >= 5)\n",
    "    df['hour']    = df['time'].dt.hour\n",
    "    df['minute']  = df['time'].dt.minute\n",
    "    df['afternoon'] = df['hour'] >= 12\n",
    "    \n",
    "    # combination of hour and minute features\n",
    "    df['daytime_id'] = ( ( df.time.dt.hour*60 + df.time.dt.minute ) /20 ).astype(int)"
   ]
  },
  {
   "cell_type": "code",
   "execution_count": 9,
   "id": "4f52bbde",
   "metadata": {
    "execution": {
     "iopub.execute_input": "2022-03-23T14:40:28.669361Z",
     "iopub.status.busy": "2022-03-23T14:40:28.668699Z",
     "iopub.status.idle": "2022-03-23T14:40:29.349908Z",
     "shell.execute_reply": "2022-03-23T14:40:29.349331Z",
     "shell.execute_reply.started": "2022-03-23T14:22:02.901130Z"
    },
    "papermill": {
     "duration": 0.715064,
     "end_time": "2022-03-23T14:40:29.350067",
     "exception": false,
     "start_time": "2022-03-23T14:40:28.635003",
     "status": "completed"
    },
    "tags": []
   },
   "outputs": [],
   "source": [
    "add_datetime_features(df_train)\n",
    "add_datetime_features(df_test)"
   ]
  },
  {
   "cell_type": "code",
   "execution_count": 10,
   "id": "a2873406",
   "metadata": {
    "execution": {
     "iopub.execute_input": "2022-03-23T14:40:29.407057Z",
     "iopub.status.busy": "2022-03-23T14:40:29.406410Z",
     "iopub.status.idle": "2022-03-23T14:40:29.507582Z",
     "shell.execute_reply": "2022-03-23T14:40:29.507084Z",
     "shell.execute_reply.started": "2022-03-23T14:22:03.586792Z"
    },
    "papermill": {
     "duration": 0.131836,
     "end_time": "2022-03-23T14:40:29.507726",
     "exception": false,
     "start_time": "2022-03-23T14:40:29.375890",
     "status": "completed"
    },
    "tags": []
   },
   "outputs": [],
   "source": [
    "median = df_train.groupby(['road', 'daytime_id']).congestion.median().astype(int)"
   ]
  },
  {
   "cell_type": "code",
   "execution_count": 11,
   "id": "a79d3286",
   "metadata": {
    "execution": {
     "iopub.execute_input": "2022-03-23T14:40:29.565313Z",
     "iopub.status.busy": "2022-03-23T14:40:29.562696Z",
     "iopub.status.idle": "2022-03-23T14:40:29.881745Z",
     "shell.execute_reply": "2022-03-23T14:40:29.882276Z",
     "shell.execute_reply.started": "2022-03-23T14:22:03.691472Z"
    },
    "papermill": {
     "duration": 0.348694,
     "end_time": "2022-03-23T14:40:29.882442",
     "exception": false,
     "start_time": "2022-03-23T14:40:29.533748",
     "status": "completed"
    },
    "tags": []
   },
   "outputs": [],
   "source": [
    "df=df_train.copy()\n",
    "df = df_train.merge(median, left_on=['road', 'daytime_id'], right_index=True)"
   ]
  },
  {
   "cell_type": "code",
   "execution_count": 12,
   "id": "2bb81735",
   "metadata": {
    "execution": {
     "iopub.execute_input": "2022-03-23T14:40:29.938523Z",
     "iopub.status.busy": "2022-03-23T14:40:29.937802Z",
     "iopub.status.idle": "2022-03-23T14:40:29.947737Z",
     "shell.execute_reply": "2022-03-23T14:40:29.948202Z",
     "shell.execute_reply.started": "2022-03-23T14:22:04.010850Z"
    },
    "papermill": {
     "duration": 0.040083,
     "end_time": "2022-03-23T14:40:29.948384",
     "exception": false,
     "start_time": "2022-03-23T14:40:29.908301",
     "status": "completed"
    },
    "tags": []
   },
   "outputs": [],
   "source": [
    "df2 = df_test.copy()\n",
    "df2 = df_test.merge(median,left_on=['road', 'daytime_id'], right_index=True)"
   ]
  },
  {
   "cell_type": "code",
   "execution_count": 13,
   "id": "333f6d83",
   "metadata": {
    "execution": {
     "iopub.execute_input": "2022-03-23T14:40:30.004629Z",
     "iopub.status.busy": "2022-03-23T14:40:30.003627Z",
     "iopub.status.idle": "2022-03-23T14:40:30.011003Z",
     "shell.execute_reply": "2022-03-23T14:40:30.011705Z",
     "shell.execute_reply.started": "2022-03-23T14:22:04.026259Z"
    },
    "papermill": {
     "duration": 0.037619,
     "end_time": "2022-03-23T14:40:30.011932",
     "exception": false,
     "start_time": "2022-03-23T14:40:29.974313",
     "status": "completed"
    },
    "tags": []
   },
   "outputs": [],
   "source": [
    "medt = df2['congestion']\n",
    "df_test['median'] = medt"
   ]
  },
  {
   "cell_type": "code",
   "execution_count": 14,
   "id": "a4a3a20e",
   "metadata": {
    "execution": {
     "iopub.execute_input": "2022-03-23T14:40:30.085085Z",
     "iopub.status.busy": "2022-03-23T14:40:30.072389Z",
     "iopub.status.idle": "2022-03-23T14:40:30.088501Z",
     "shell.execute_reply": "2022-03-23T14:40:30.089086Z",
     "shell.execute_reply.started": "2022-03-23T14:22:04.034106Z"
    },
    "papermill": {
     "duration": 0.048076,
     "end_time": "2022-03-23T14:40:30.089262",
     "exception": false,
     "start_time": "2022-03-23T14:40:30.041186",
     "status": "completed"
    },
    "tags": []
   },
   "outputs": [
    {
     "data": {
      "text/html": [
       "<div>\n",
       "<style scoped>\n",
       "    .dataframe tbody tr th:only-of-type {\n",
       "        vertical-align: middle;\n",
       "    }\n",
       "\n",
       "    .dataframe tbody tr th {\n",
       "        vertical-align: top;\n",
       "    }\n",
       "\n",
       "    .dataframe thead th {\n",
       "        text-align: right;\n",
       "    }\n",
       "</style>\n",
       "<table border=\"1\" class=\"dataframe\">\n",
       "  <thead>\n",
       "    <tr style=\"text-align: right;\">\n",
       "      <th></th>\n",
       "      <th>time</th>\n",
       "      <th>x</th>\n",
       "      <th>y</th>\n",
       "      <th>direction</th>\n",
       "      <th>road</th>\n",
       "      <th>lag</th>\n",
       "      <th>month</th>\n",
       "      <th>day</th>\n",
       "      <th>weekday</th>\n",
       "      <th>weekend</th>\n",
       "      <th>hour</th>\n",
       "      <th>minute</th>\n",
       "      <th>afternoon</th>\n",
       "      <th>daytime_id</th>\n",
       "      <th>median</th>\n",
       "    </tr>\n",
       "  </thead>\n",
       "  <tbody>\n",
       "    <tr>\n",
       "      <th>0</th>\n",
       "      <td>1991-09-30 12:00:00</td>\n",
       "      <td>0</td>\n",
       "      <td>0</td>\n",
       "      <td>EB</td>\n",
       "      <td>0</td>\n",
       "      <td>70.0</td>\n",
       "      <td>9</td>\n",
       "      <td>30</td>\n",
       "      <td>0</td>\n",
       "      <td>False</td>\n",
       "      <td>12</td>\n",
       "      <td>0</td>\n",
       "      <td>True</td>\n",
       "      <td>36</td>\n",
       "      <td>47</td>\n",
       "    </tr>\n",
       "    <tr>\n",
       "      <th>1</th>\n",
       "      <td>1991-09-30 12:00:00</td>\n",
       "      <td>0</td>\n",
       "      <td>0</td>\n",
       "      <td>NB</td>\n",
       "      <td>1</td>\n",
       "      <td>40.0</td>\n",
       "      <td>9</td>\n",
       "      <td>30</td>\n",
       "      <td>0</td>\n",
       "      <td>False</td>\n",
       "      <td>12</td>\n",
       "      <td>0</td>\n",
       "      <td>True</td>\n",
       "      <td>36</td>\n",
       "      <td>34</td>\n",
       "    </tr>\n",
       "    <tr>\n",
       "      <th>2</th>\n",
       "      <td>1991-09-30 12:00:00</td>\n",
       "      <td>0</td>\n",
       "      <td>0</td>\n",
       "      <td>SB</td>\n",
       "      <td>2</td>\n",
       "      <td>51.0</td>\n",
       "      <td>9</td>\n",
       "      <td>30</td>\n",
       "      <td>0</td>\n",
       "      <td>False</td>\n",
       "      <td>12</td>\n",
       "      <td>0</td>\n",
       "      <td>True</td>\n",
       "      <td>36</td>\n",
       "      <td>50</td>\n",
       "    </tr>\n",
       "    <tr>\n",
       "      <th>3</th>\n",
       "      <td>1991-09-30 12:00:00</td>\n",
       "      <td>0</td>\n",
       "      <td>1</td>\n",
       "      <td>EB</td>\n",
       "      <td>3</td>\n",
       "      <td>24.0</td>\n",
       "      <td>9</td>\n",
       "      <td>30</td>\n",
       "      <td>0</td>\n",
       "      <td>False</td>\n",
       "      <td>12</td>\n",
       "      <td>0</td>\n",
       "      <td>True</td>\n",
       "      <td>36</td>\n",
       "      <td>26</td>\n",
       "    </tr>\n",
       "    <tr>\n",
       "      <th>4</th>\n",
       "      <td>1991-09-30 12:00:00</td>\n",
       "      <td>0</td>\n",
       "      <td>1</td>\n",
       "      <td>NB</td>\n",
       "      <td>4</td>\n",
       "      <td>65.0</td>\n",
       "      <td>9</td>\n",
       "      <td>30</td>\n",
       "      <td>0</td>\n",
       "      <td>False</td>\n",
       "      <td>12</td>\n",
       "      <td>0</td>\n",
       "      <td>True</td>\n",
       "      <td>36</td>\n",
       "      <td>71</td>\n",
       "    </tr>\n",
       "  </tbody>\n",
       "</table>\n",
       "</div>"
      ],
      "text/plain": [
       "                 time  x  y direction  road   lag  month  day  weekday  \\\n",
       "0 1991-09-30 12:00:00  0  0        EB     0  70.0      9   30        0   \n",
       "1 1991-09-30 12:00:00  0  0        NB     1  40.0      9   30        0   \n",
       "2 1991-09-30 12:00:00  0  0        SB     2  51.0      9   30        0   \n",
       "3 1991-09-30 12:00:00  0  1        EB     3  24.0      9   30        0   \n",
       "4 1991-09-30 12:00:00  0  1        NB     4  65.0      9   30        0   \n",
       "\n",
       "   weekend  hour  minute  afternoon  daytime_id  median  \n",
       "0    False    12       0       True          36      47  \n",
       "1    False    12       0       True          36      34  \n",
       "2    False    12       0       True          36      50  \n",
       "3    False    12       0       True          36      26  \n",
       "4    False    12       0       True          36      71  "
      ]
     },
     "execution_count": 14,
     "metadata": {},
     "output_type": "execute_result"
    }
   ],
   "source": [
    "df_test.head()"
   ]
  },
  {
   "cell_type": "code",
   "execution_count": 15,
   "id": "993076f0",
   "metadata": {
    "execution": {
     "iopub.execute_input": "2022-03-23T14:40:30.151634Z",
     "iopub.status.busy": "2022-03-23T14:40:30.151008Z",
     "iopub.status.idle": "2022-03-23T14:40:30.243568Z",
     "shell.execute_reply": "2022-03-23T14:40:30.244058Z",
     "shell.execute_reply.started": "2022-03-23T14:22:04.061711Z"
    },
    "papermill": {
     "duration": 0.127016,
     "end_time": "2022-03-23T14:40:30.244249",
     "exception": false,
     "start_time": "2022-03-23T14:40:30.117233",
     "status": "completed"
    },
    "tags": []
   },
   "outputs": [],
   "source": [
    "med = df['congestion_y']\n",
    "df_train['median'] = med\n",
    "df_train['lag'] = df_train['lag'].fillna(df_train['median']) \n",
    "df_test['lag'] = df_test['lag'].fillna(df_test['median'])"
   ]
  },
  {
   "cell_type": "code",
   "execution_count": 16,
   "id": "ac6ca44e",
   "metadata": {
    "execution": {
     "iopub.execute_input": "2022-03-23T14:40:30.304086Z",
     "iopub.status.busy": "2022-03-23T14:40:30.303417Z",
     "iopub.status.idle": "2022-03-23T14:40:30.320088Z",
     "shell.execute_reply": "2022-03-23T14:40:30.319531Z",
     "shell.execute_reply.started": "2022-03-23T14:22:04.181760Z"
    },
    "papermill": {
     "duration": 0.047635,
     "end_time": "2022-03-23T14:40:30.320230",
     "exception": false,
     "start_time": "2022-03-23T14:40:30.272595",
     "status": "completed"
    },
    "tags": []
   },
   "outputs": [
    {
     "data": {
      "text/html": [
       "<div>\n",
       "<style scoped>\n",
       "    .dataframe tbody tr th:only-of-type {\n",
       "        vertical-align: middle;\n",
       "    }\n",
       "\n",
       "    .dataframe tbody tr th {\n",
       "        vertical-align: top;\n",
       "    }\n",
       "\n",
       "    .dataframe thead th {\n",
       "        text-align: right;\n",
       "    }\n",
       "</style>\n",
       "<table border=\"1\" class=\"dataframe\">\n",
       "  <thead>\n",
       "    <tr style=\"text-align: right;\">\n",
       "      <th></th>\n",
       "      <th>time</th>\n",
       "      <th>x</th>\n",
       "      <th>y</th>\n",
       "      <th>direction</th>\n",
       "      <th>congestion</th>\n",
       "      <th>road</th>\n",
       "      <th>lag</th>\n",
       "      <th>month</th>\n",
       "      <th>day</th>\n",
       "      <th>weekday</th>\n",
       "      <th>weekend</th>\n",
       "      <th>hour</th>\n",
       "      <th>minute</th>\n",
       "      <th>afternoon</th>\n",
       "      <th>daytime_id</th>\n",
       "      <th>median</th>\n",
       "    </tr>\n",
       "  </thead>\n",
       "  <tbody>\n",
       "    <tr>\n",
       "      <th>0</th>\n",
       "      <td>1991-04-01</td>\n",
       "      <td>0</td>\n",
       "      <td>0</td>\n",
       "      <td>EB</td>\n",
       "      <td>70</td>\n",
       "      <td>0</td>\n",
       "      <td>38.0</td>\n",
       "      <td>4</td>\n",
       "      <td>1</td>\n",
       "      <td>0</td>\n",
       "      <td>False</td>\n",
       "      <td>0</td>\n",
       "      <td>0</td>\n",
       "      <td>False</td>\n",
       "      <td>0</td>\n",
       "      <td>38</td>\n",
       "    </tr>\n",
       "    <tr>\n",
       "      <th>1</th>\n",
       "      <td>1991-04-01</td>\n",
       "      <td>0</td>\n",
       "      <td>0</td>\n",
       "      <td>NB</td>\n",
       "      <td>49</td>\n",
       "      <td>1</td>\n",
       "      <td>36.0</td>\n",
       "      <td>4</td>\n",
       "      <td>1</td>\n",
       "      <td>0</td>\n",
       "      <td>False</td>\n",
       "      <td>0</td>\n",
       "      <td>0</td>\n",
       "      <td>False</td>\n",
       "      <td>0</td>\n",
       "      <td>36</td>\n",
       "    </tr>\n",
       "    <tr>\n",
       "      <th>2</th>\n",
       "      <td>1991-04-01</td>\n",
       "      <td>0</td>\n",
       "      <td>0</td>\n",
       "      <td>SB</td>\n",
       "      <td>24</td>\n",
       "      <td>2</td>\n",
       "      <td>24.0</td>\n",
       "      <td>4</td>\n",
       "      <td>1</td>\n",
       "      <td>0</td>\n",
       "      <td>False</td>\n",
       "      <td>0</td>\n",
       "      <td>0</td>\n",
       "      <td>False</td>\n",
       "      <td>0</td>\n",
       "      <td>24</td>\n",
       "    </tr>\n",
       "    <tr>\n",
       "      <th>3</th>\n",
       "      <td>1991-04-01</td>\n",
       "      <td>0</td>\n",
       "      <td>1</td>\n",
       "      <td>EB</td>\n",
       "      <td>18</td>\n",
       "      <td>3</td>\n",
       "      <td>21.0</td>\n",
       "      <td>4</td>\n",
       "      <td>1</td>\n",
       "      <td>0</td>\n",
       "      <td>False</td>\n",
       "      <td>0</td>\n",
       "      <td>0</td>\n",
       "      <td>False</td>\n",
       "      <td>0</td>\n",
       "      <td>21</td>\n",
       "    </tr>\n",
       "    <tr>\n",
       "      <th>4</th>\n",
       "      <td>1991-04-01</td>\n",
       "      <td>0</td>\n",
       "      <td>1</td>\n",
       "      <td>NB</td>\n",
       "      <td>60</td>\n",
       "      <td>4</td>\n",
       "      <td>67.0</td>\n",
       "      <td>4</td>\n",
       "      <td>1</td>\n",
       "      <td>0</td>\n",
       "      <td>False</td>\n",
       "      <td>0</td>\n",
       "      <td>0</td>\n",
       "      <td>False</td>\n",
       "      <td>0</td>\n",
       "      <td>67</td>\n",
       "    </tr>\n",
       "  </tbody>\n",
       "</table>\n",
       "</div>"
      ],
      "text/plain": [
       "        time  x  y direction  congestion  road   lag  month  day  weekday  \\\n",
       "0 1991-04-01  0  0        EB          70     0  38.0      4    1        0   \n",
       "1 1991-04-01  0  0        NB          49     1  36.0      4    1        0   \n",
       "2 1991-04-01  0  0        SB          24     2  24.0      4    1        0   \n",
       "3 1991-04-01  0  1        EB          18     3  21.0      4    1        0   \n",
       "4 1991-04-01  0  1        NB          60     4  67.0      4    1        0   \n",
       "\n",
       "   weekend  hour  minute  afternoon  daytime_id  median  \n",
       "0    False     0       0      False           0      38  \n",
       "1    False     0       0      False           0      36  \n",
       "2    False     0       0      False           0      24  \n",
       "3    False     0       0      False           0      21  \n",
       "4    False     0       0      False           0      67  "
      ]
     },
     "execution_count": 16,
     "metadata": {},
     "output_type": "execute_result"
    }
   ],
   "source": [
    "df_train.head()"
   ]
  },
  {
   "cell_type": "code",
   "execution_count": 17,
   "id": "aeaae3c0",
   "metadata": {
    "execution": {
     "iopub.execute_input": "2022-03-23T14:40:30.382262Z",
     "iopub.status.busy": "2022-03-23T14:40:30.381547Z",
     "iopub.status.idle": "2022-03-23T14:40:30.518507Z",
     "shell.execute_reply": "2022-03-23T14:40:30.517706Z",
     "shell.execute_reply.started": "2022-03-23T14:22:04.205034Z"
    },
    "papermill": {
     "duration": 0.169725,
     "end_time": "2022-03-23T14:40:30.518665",
     "exception": false,
     "start_time": "2022-03-23T14:40:30.348940",
     "status": "completed"
    },
    "tags": []
   },
   "outputs": [],
   "source": [
    "X_train = df_train.copy()\n",
    "y_train = df_train['congestion']\n",
    "X_train = X_train.drop(['congestion','x','y','direction','time'],axis=1)"
   ]
  },
  {
   "cell_type": "code",
   "execution_count": 18,
   "id": "ace8fe18",
   "metadata": {
    "execution": {
     "iopub.execute_input": "2022-03-23T14:40:30.583681Z",
     "iopub.status.busy": "2022-03-23T14:40:30.582949Z",
     "iopub.status.idle": "2022-03-23T14:42:51.032100Z",
     "shell.execute_reply": "2022-03-23T14:42:51.032598Z",
     "shell.execute_reply.started": "2022-03-23T14:22:04.409835Z"
    },
    "papermill": {
     "duration": 140.484782,
     "end_time": "2022-03-23T14:42:51.032776",
     "exception": false,
     "start_time": "2022-03-23T14:40:30.547994",
     "status": "completed"
    },
    "tags": []
   },
   "outputs": [
    {
     "data": {
      "text/html": [
       "<div>\n",
       "<style scoped>\n",
       "    .dataframe tbody tr th:only-of-type {\n",
       "        vertical-align: middle;\n",
       "    }\n",
       "\n",
       "    .dataframe tbody tr th {\n",
       "        vertical-align: top;\n",
       "    }\n",
       "\n",
       "    .dataframe thead th {\n",
       "        text-align: right;\n",
       "    }\n",
       "</style>\n",
       "<table border=\"1\" class=\"dataframe\">\n",
       "  <thead>\n",
       "    <tr style=\"text-align: right;\">\n",
       "      <th></th>\n",
       "      <th>feature</th>\n",
       "      <th>MI_score</th>\n",
       "    </tr>\n",
       "  </thead>\n",
       "  <tbody>\n",
       "    <tr>\n",
       "      <th>0</th>\n",
       "      <td>lag</td>\n",
       "      <td>0.771276</td>\n",
       "    </tr>\n",
       "    <tr>\n",
       "      <th>1</th>\n",
       "      <td>median</td>\n",
       "      <td>0.751966</td>\n",
       "    </tr>\n",
       "    <tr>\n",
       "      <th>2</th>\n",
       "      <td>road</td>\n",
       "      <td>0.707580</td>\n",
       "    </tr>\n",
       "    <tr>\n",
       "      <th>3</th>\n",
       "      <td>daytime_id</td>\n",
       "      <td>0.042295</td>\n",
       "    </tr>\n",
       "    <tr>\n",
       "      <th>4</th>\n",
       "      <td>hour</td>\n",
       "      <td>0.042196</td>\n",
       "    </tr>\n",
       "    <tr>\n",
       "      <th>5</th>\n",
       "      <td>afternoon</td>\n",
       "      <td>0.018478</td>\n",
       "    </tr>\n",
       "    <tr>\n",
       "      <th>6</th>\n",
       "      <td>weekend</td>\n",
       "      <td>0.005591</td>\n",
       "    </tr>\n",
       "    <tr>\n",
       "      <th>7</th>\n",
       "      <td>weekday</td>\n",
       "      <td>0.004442</td>\n",
       "    </tr>\n",
       "    <tr>\n",
       "      <th>8</th>\n",
       "      <td>day</td>\n",
       "      <td>0.001692</td>\n",
       "    </tr>\n",
       "    <tr>\n",
       "      <th>9</th>\n",
       "      <td>month</td>\n",
       "      <td>0.001204</td>\n",
       "    </tr>\n",
       "    <tr>\n",
       "      <th>10</th>\n",
       "      <td>minute</td>\n",
       "      <td>0.001061</td>\n",
       "    </tr>\n",
       "  </tbody>\n",
       "</table>\n",
       "</div>"
      ],
      "text/plain": [
       "       feature  MI_score\n",
       "0          lag  0.771276\n",
       "1       median  0.751966\n",
       "2         road  0.707580\n",
       "3   daytime_id  0.042295\n",
       "4         hour  0.042196\n",
       "5    afternoon  0.018478\n",
       "6      weekend  0.005591\n",
       "7      weekday  0.004442\n",
       "8          day  0.001692\n",
       "9        month  0.001204\n",
       "10      minute  0.001061"
      ]
     },
     "execution_count": 18,
     "metadata": {},
     "output_type": "execute_result"
    }
   ],
   "source": [
    "from sklearn.feature_selection import mutual_info_regression\n",
    "\n",
    "mi_scores = mutual_info_regression(X_train, y_train)\n",
    "mi_scores = pd.Series(mi_scores, name=\"MI_score\", index=X_train.columns)\n",
    "mi_scores = mi_scores.sort_values(ascending=False)\n",
    "df_mi_scores = pd.DataFrame(mi_scores).reset_index().rename(columns={'index':'feature'})\n",
    "df_mi_scores"
   ]
  },
  {
   "cell_type": "markdown",
   "id": "dd94cd0c",
   "metadata": {
    "papermill": {
     "duration": 0.027859,
     "end_time": "2022-03-23T14:42:51.089105",
     "exception": false,
     "start_time": "2022-03-23T14:42:51.061246",
     "status": "completed"
    },
    "tags": []
   },
   "source": [
    "The 20 minute lag and median seem to be the most informative features"
   ]
  },
  {
   "cell_type": "markdown",
   "id": "aa953aac",
   "metadata": {
    "papermill": {
     "duration": 0.026871,
     "end_time": "2022-03-23T14:42:51.142950",
     "exception": false,
     "start_time": "2022-03-23T14:42:51.116079",
     "status": "completed"
    },
    "tags": []
   },
   "source": [
    "Will use the median congestion and the congestion value 20 minutes prior to predict test congestions. See [notebook](https://www.kaggle.com/code/robertturro/tps-march-2022-useful-visuals) for EDA and visuals"
   ]
  },
  {
   "cell_type": "code",
   "execution_count": 19,
   "id": "44ca2b82",
   "metadata": {
    "execution": {
     "iopub.execute_input": "2022-03-23T14:42:51.204112Z",
     "iopub.status.busy": "2022-03-23T14:42:51.202846Z",
     "iopub.status.idle": "2022-03-23T14:42:51.264499Z",
     "shell.execute_reply": "2022-03-23T14:42:51.264930Z",
     "shell.execute_reply.started": "2022-03-23T14:24:18.421955Z"
    },
    "papermill": {
     "duration": 0.095263,
     "end_time": "2022-03-23T14:42:51.265144",
     "exception": false,
     "start_time": "2022-03-23T14:42:51.169881",
     "status": "completed"
    },
    "tags": []
   },
   "outputs": [],
   "source": [
    "y_train = df_train['congestion']\n",
    "train = df_train.drop(['time','direction','month','day','weekday','weekend','hour','minute','afternoon','road','daytime_id','congestion'],axis=1)\n",
    "test = df_test.drop(['time','direction','month','day','weekday','weekend','hour','minute','afternoon','road','daytime_id'],axis=1)"
   ]
  },
  {
   "cell_type": "code",
   "execution_count": 20,
   "id": "d4ff24c7",
   "metadata": {
    "execution": {
     "iopub.execute_input": "2022-03-23T14:42:51.330716Z",
     "iopub.status.busy": "2022-03-23T14:42:51.329921Z",
     "iopub.status.idle": "2022-03-23T14:52:55.431086Z",
     "shell.execute_reply": "2022-03-23T14:52:55.432205Z",
     "shell.execute_reply.started": "2022-03-23T14:24:18.492372Z"
    },
    "papermill": {
     "duration": 604.140374,
     "end_time": "2022-03-23T14:52:55.432766",
     "exception": false,
     "start_time": "2022-03-23T14:42:51.292392",
     "status": "completed"
    },
    "tags": []
   },
   "outputs": [],
   "source": [
    "cat = CatBoostRegressor(logging_level='Silent', eval_metric='MAE', loss_function='MAE', random_state=42)\n",
    "ada = AdaBoostRegressor(n_estimators=500,random_state=0)\n",
    "bag = BaggingRegressor(n_estimators=500,random_state=0)\n",
    "hist = HistGradientBoostingRegressor(learning_rate=0.001)\n",
    "\n",
    "cat.fit(train,y_train)\n",
    "ada.fit(train,y_train)\n",
    "bag.fit(train,y_train)\n",
    "hist.fit(train,y_train)\n",
    "\n",
    "cat_pred = cat.predict(test)\n",
    "ada_pred = ada.predict(test)\n",
    "bad_pred = bag.predict(test)\n",
    "hist_pred = hist.predict(test)"
   ]
  },
  {
   "cell_type": "code",
   "execution_count": 21,
   "id": "d9cd3512",
   "metadata": {
    "execution": {
     "iopub.execute_input": "2022-03-23T14:52:55.497225Z",
     "iopub.status.busy": "2022-03-23T14:52:55.496178Z",
     "iopub.status.idle": "2022-03-23T14:52:55.518206Z",
     "shell.execute_reply": "2022-03-23T14:52:55.517592Z",
     "shell.execute_reply.started": "2022-03-23T14:34:12.632712Z"
    },
    "papermill": {
     "duration": 0.053973,
     "end_time": "2022-03-23T14:52:55.518379",
     "exception": false,
     "start_time": "2022-03-23T14:52:55.464406",
     "status": "completed"
    },
    "tags": []
   },
   "outputs": [],
   "source": [
    "sample_submission = pd.read_csv('../input/tabular-playground-series-mar-2022/sample_submission.csv', index_col=\"row_id\")"
   ]
  },
  {
   "cell_type": "code",
   "execution_count": 22,
   "id": "15c37d9a",
   "metadata": {
    "execution": {
     "iopub.execute_input": "2022-03-23T14:52:55.582862Z",
     "iopub.status.busy": "2022-03-23T14:52:55.581829Z",
     "iopub.status.idle": "2022-03-23T14:52:55.584456Z",
     "shell.execute_reply": "2022-03-23T14:52:55.583920Z",
     "shell.execute_reply.started": "2022-03-23T14:34:12.653905Z"
    },
    "papermill": {
     "duration": 0.038049,
     "end_time": "2022-03-23T14:52:55.584613",
     "exception": false,
     "start_time": "2022-03-23T14:52:55.546564",
     "status": "completed"
    },
    "tags": []
   },
   "outputs": [],
   "source": [
    "sample_submission['cat'] = cat_pred\n",
    "sample_submission['ada'] = ada_pred\n",
    "sample_submission['bag'] = bad_pred\n",
    "sample_submission['hist'] = hist_pred"
   ]
  },
  {
   "cell_type": "code",
   "execution_count": 23,
   "id": "9893c1ee",
   "metadata": {
    "execution": {
     "iopub.execute_input": "2022-03-23T14:52:55.647295Z",
     "iopub.status.busy": "2022-03-23T14:52:55.644582Z",
     "iopub.status.idle": "2022-03-23T14:52:55.649312Z",
     "shell.execute_reply": "2022-03-23T14:52:55.649914Z",
     "shell.execute_reply.started": "2022-03-23T14:34:12.663982Z"
    },
    "papermill": {
     "duration": 0.037924,
     "end_time": "2022-03-23T14:52:55.650165",
     "exception": false,
     "start_time": "2022-03-23T14:52:55.612241",
     "status": "completed"
    },
    "tags": []
   },
   "outputs": [],
   "source": [
    "sample_submission['congestion'] = sample_submission.mean(axis=1)"
   ]
  },
  {
   "cell_type": "code",
   "execution_count": 24,
   "id": "1502abec",
   "metadata": {
    "execution": {
     "iopub.execute_input": "2022-03-23T14:52:55.709689Z",
     "iopub.status.busy": "2022-03-23T14:52:55.708703Z",
     "iopub.status.idle": "2022-03-23T14:52:55.714777Z",
     "shell.execute_reply": "2022-03-23T14:52:55.715317Z",
     "shell.execute_reply.started": "2022-03-23T14:34:12.676478Z"
    },
    "papermill": {
     "duration": 0.037036,
     "end_time": "2022-03-23T14:52:55.715523",
     "exception": false,
     "start_time": "2022-03-23T14:52:55.678487",
     "status": "completed"
    },
    "tags": []
   },
   "outputs": [],
   "source": [
    "sample_submission = sample_submission.astype(int)\n",
    "sub = sample_submission.copy()\n",
    "sub = sub.drop(['cat','ada','bag','hist'],axis=1)"
   ]
  },
  {
   "cell_type": "code",
   "execution_count": 25,
   "id": "c5687cf3",
   "metadata": {
    "execution": {
     "iopub.execute_input": "2022-03-23T14:52:55.774586Z",
     "iopub.status.busy": "2022-03-23T14:52:55.773632Z",
     "iopub.status.idle": "2022-03-23T14:52:55.779021Z",
     "shell.execute_reply": "2022-03-23T14:52:55.779536Z",
     "shell.execute_reply.started": "2022-03-23T14:34:12.689422Z"
    },
    "papermill": {
     "duration": 0.036103,
     "end_time": "2022-03-23T14:52:55.779701",
     "exception": false,
     "start_time": "2022-03-23T14:52:55.743598",
     "status": "completed"
    },
    "tags": []
   },
   "outputs": [],
   "source": [
    "df_test = df_test.set_index(df_test_idx)\n",
    "df_test['congestion'] = sample_submission['congestion']"
   ]
  },
  {
   "cell_type": "markdown",
   "id": "2d76d8b8",
   "metadata": {
    "papermill": {
     "duration": 0.02704,
     "end_time": "2022-03-23T14:52:55.833890",
     "exception": false,
     "start_time": "2022-03-23T14:52:55.806850",
     "status": "completed"
    },
    "tags": []
   },
   "source": [
    "From [TPSMAR22 Generalizing the Special Values](https://www.kaggle.com/code/ambrosm/tpsmar22-generalizing-the-special-values)"
   ]
  },
  {
   "cell_type": "code",
   "execution_count": 26,
   "id": "15e59c38",
   "metadata": {
    "execution": {
     "iopub.execute_input": "2022-03-23T14:52:55.892010Z",
     "iopub.status.busy": "2022-03-23T14:52:55.891070Z",
     "iopub.status.idle": "2022-03-23T14:52:56.187064Z",
     "shell.execute_reply": "2022-03-23T14:52:56.186065Z",
     "shell.execute_reply.started": "2022-03-23T14:34:12.703793Z"
    },
    "papermill": {
     "duration": 0.326051,
     "end_time": "2022-03-23T14:52:56.187212",
     "exception": false,
     "start_time": "2022-03-23T14:52:55.861161",
     "status": "completed"
    },
    "tags": []
   },
   "outputs": [],
   "source": [
    "submission_in = sub.copy()\n",
    "\n",
    "sep = df_train[(df_train.time.dt.hour >= 12) & (df_train.time.dt.weekday < 5) &\n",
    "            (df_train.time.dt.dayofyear >= 246)]\n",
    "lower = sep.groupby(['hour', 'minute','x','y','direction']).congestion.quantile(0.15).values\n",
    "upper = sep.groupby(['hour', 'minute','y','x','direction']).congestion.quantile(0.7).values"
   ]
  },
  {
   "cell_type": "code",
   "execution_count": 27,
   "id": "c1315ccb",
   "metadata": {
    "execution": {
     "iopub.execute_input": "2022-03-23T14:52:56.251784Z",
     "iopub.status.busy": "2022-03-23T14:52:56.250155Z",
     "iopub.status.idle": "2022-03-23T14:52:56.255741Z",
     "shell.execute_reply": "2022-03-23T14:52:56.256297Z",
     "shell.execute_reply.started": "2022-03-23T14:34:13.002213Z"
    },
    "papermill": {
     "duration": 0.040754,
     "end_time": "2022-03-23T14:52:56.256468",
     "exception": false,
     "start_time": "2022-03-23T14:52:56.215714",
     "status": "completed"
    },
    "tags": []
   },
   "outputs": [],
   "source": [
    "submission_out = submission_in.copy()\n",
    "submission_out['congestion'] = submission_in.congestion.clip(lower, upper)"
   ]
  },
  {
   "cell_type": "markdown",
   "id": "3cd95d55",
   "metadata": {
    "papermill": {
     "duration": 0.028633,
     "end_time": "2022-03-23T14:52:56.313293",
     "exception": false,
     "start_time": "2022-03-23T14:52:56.284660",
     "status": "completed"
    },
    "tags": []
   },
   "source": [
    "# Submission"
   ]
  },
  {
   "cell_type": "code",
   "execution_count": 28,
   "id": "fe3d30ba",
   "metadata": {
    "execution": {
     "iopub.execute_input": "2022-03-23T14:52:56.376891Z",
     "iopub.status.busy": "2022-03-23T14:52:56.375907Z",
     "iopub.status.idle": "2022-03-23T14:52:56.380635Z",
     "shell.execute_reply": "2022-03-23T14:52:56.381176Z",
     "shell.execute_reply.started": "2022-03-23T14:34:13.019379Z"
    },
    "papermill": {
     "duration": 0.037812,
     "end_time": "2022-03-23T14:52:56.381348",
     "exception": false,
     "start_time": "2022-03-23T14:52:56.343536",
     "status": "completed"
    },
    "tags": []
   },
   "outputs": [],
   "source": [
    "submission_out['congestion'] = submission_out['congestion'].astype(int)"
   ]
  },
  {
   "cell_type": "code",
   "execution_count": 29,
   "id": "bcd3fb93",
   "metadata": {
    "execution": {
     "iopub.execute_input": "2022-03-23T14:52:56.442526Z",
     "iopub.status.busy": "2022-03-23T14:52:56.441574Z",
     "iopub.status.idle": "2022-03-23T14:52:56.444307Z",
     "shell.execute_reply": "2022-03-23T14:52:56.443770Z",
     "shell.execute_reply.started": "2022-03-23T14:34:13.027486Z"
    },
    "papermill": {
     "duration": 0.035663,
     "end_time": "2022-03-23T14:52:56.444451",
     "exception": false,
     "start_time": "2022-03-23T14:52:56.408788",
     "status": "completed"
    },
    "tags": []
   },
   "outputs": [],
   "source": [
    "submission_out = submission_out.reset_index()"
   ]
  },
  {
   "cell_type": "code",
   "execution_count": 30,
   "id": "294ab518",
   "metadata": {
    "execution": {
     "iopub.execute_input": "2022-03-23T14:52:56.503888Z",
     "iopub.status.busy": "2022-03-23T14:52:56.502801Z",
     "iopub.status.idle": "2022-03-23T14:52:56.513841Z",
     "shell.execute_reply": "2022-03-23T14:52:56.513310Z",
     "shell.execute_reply.started": "2022-03-23T14:34:13.041247Z"
    },
    "papermill": {
     "duration": 0.04212,
     "end_time": "2022-03-23T14:52:56.513997",
     "exception": false,
     "start_time": "2022-03-23T14:52:56.471877",
     "status": "completed"
    },
    "tags": []
   },
   "outputs": [],
   "source": [
    "submission_out.to_csv('submission.csv',index=False)"
   ]
  },
  {
   "cell_type": "code",
   "execution_count": null,
   "id": "ecd6b129",
   "metadata": {
    "papermill": {
     "duration": 0.0279,
     "end_time": "2022-03-23T14:52:56.569725",
     "exception": false,
     "start_time": "2022-03-23T14:52:56.541825",
     "status": "completed"
    },
    "tags": []
   },
   "outputs": [],
   "source": []
  }
 ],
 "metadata": {
  "kernelspec": {
   "display_name": "Python 3",
   "language": "python",
   "name": "python3"
  },
  "language_info": {
   "codemirror_mode": {
    "name": "ipython",
    "version": 3
   },
   "file_extension": ".py",
   "mimetype": "text/x-python",
   "name": "python",
   "nbconvert_exporter": "python",
   "pygments_lexer": "ipython3",
   "version": "3.7.12"
  },
  "papermill": {
   "default_parameters": {},
   "duration": 764.60398,
   "end_time": "2022-03-23T14:52:57.612220",
   "environment_variables": {},
   "exception": null,
   "input_path": "__notebook__.ipynb",
   "output_path": "__notebook__.ipynb",
   "parameters": {},
   "start_time": "2022-03-23T14:40:13.008240",
   "version": "2.3.3"
  }
 },
 "nbformat": 4,
 "nbformat_minor": 5
}
